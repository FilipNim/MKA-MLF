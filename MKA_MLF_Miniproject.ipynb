{
  "nbformat": 4,
  "nbformat_minor": 0,
  "metadata": {
    "colab": {
      "provenance": [],
      "authorship_tag": "ABX9TyMWScWh53SyoMI19G/TjwvE",
      "include_colab_link": true
    },
    "kernelspec": {
      "name": "python3",
      "display_name": "Python 3"
    },
    "language_info": {
      "name": "python"
    }
  },
  "cells": [
    {
      "cell_type": "markdown",
      "metadata": {
        "id": "view-in-github",
        "colab_type": "text"
      },
      "source": [
        "<a href=\"https://colab.research.google.com/github/FilipNim/MKA-MLF/blob/main/MKA_MLF_Miniproject.ipynb\" target=\"_parent\"><img src=\"https://colab.research.google.com/assets/colab-badge.svg\" alt=\"Open In Colab\"/></a>"
      ]
    },
    {
      "cell_type": "markdown",
      "source": [
        "# MKA-MLF Miniproject"
      ],
      "metadata": {
        "id": "9nSmVZkIu_LE"
      }
    },
    {
      "cell_type": "code",
      "execution_count": 86,
      "metadata": {
        "id": "BWnKOkDnmSK8"
      },
      "outputs": [],
      "source": [
        "import pandas as pd\n",
        "from sklearn.cluster import DBSCAN\n",
        "from sklearn.neighbors import NearestNeighbors\n",
        "from sklearn.preprocessing import StandardScaler\n",
        "from sklearn.metrics import euclidean_distances\n",
        "\n",
        "import numpy as np\n",
        "import matplotlib.pyplot as plt\n"
      ]
    },
    {
      "cell_type": "markdown",
      "source": [
        "## Import data"
      ],
      "metadata": {
        "id": "ofH_mrBr1CS-"
      }
    },
    {
      "cell_type": "code",
      "source": [
        "data = pd.read_csv(\"Data_prepared_final.csv\")"
      ],
      "metadata": {
        "id": "VRhq792km7z7"
      },
      "execution_count": 87,
      "outputs": []
    },
    {
      "cell_type": "code",
      "source": [
        "data"
      ],
      "metadata": {
        "colab": {
          "base_uri": "https://localhost:8080/",
          "height": 424
        },
        "id": "x0ZDybPrgGzc",
        "outputId": "2682a4e1-8534-4fbc-a5e9-41af9da9e2a8"
      },
      "execution_count": 88,
      "outputs": [
        {
          "output_type": "execute_result",
          "data": {
            "text/plain": [
              "       Unnamed: 0   time [s]  cfo_meas   cfo_demod  gain_imb     iq_imb  \\\n",
              "0               0  45181.524      -414 -421.076324  0.076097 -46.987598   \n",
              "1               1  45182.129      -414 -423.571686  0.069879 -47.852627   \n",
              "2               2  45182.550      -414 -421.033936  0.061466 -48.968697   \n",
              "3               3  45182.971      -414 -420.103546  0.078836 -46.756973   \n",
              "4               4  45183.551      -432 -420.781097  0.066053 -47.048218   \n",
              "...           ...        ...       ...         ...       ...        ...   \n",
              "19195       19195  54245.724       216  215.584991  0.077551 -35.409054   \n",
              "19196       19196  54246.340       216  215.247406  0.044961 -35.508205   \n",
              "19197       19197  54246.770       216  216.761307  0.070066 -35.038486   \n",
              "19198       19198  54247.379       216  215.353516  0.048611 -35.413639   \n",
              "19199       19199  54247.960       216  215.797363  0.063049 -35.693104   \n",
              "\n",
              "          or_off  quadr_err    ph_err   mag_err       evm  \n",
              "0     -27.219631   0.104362  1.129778  0.440299  2.059935  \n",
              "1     -26.934967   0.053158  1.050010  0.431240  1.815053  \n",
              "2     -27.130722  -0.045913  0.989473  0.447790  1.762053  \n",
              "3     -27.005318   0.081583  1.085091  0.443476  1.894204  \n",
              "4     -27.358521   0.081920  1.023701  0.465225  1.805841  \n",
              "...          ...        ...       ...       ...       ...  \n",
              "19195 -28.611925   1.875334  0.999375  1.427339  2.248822  \n",
              "19196 -27.954048   1.898758  1.031501  1.478366  2.320668  \n",
              "19197 -28.467575   2.015116  1.090227  1.468599  2.382019  \n",
              "19198 -28.528139   1.916172  0.999381  1.497681  2.283976  \n",
              "19199 -28.132133   1.834771  0.995196  1.404114  2.237176  \n",
              "\n",
              "[19200 rows x 11 columns]"
            ],
            "text/html": [
              "\n",
              "  <div id=\"df-47009d7d-fde2-423d-8830-efb74859e44e\" class=\"colab-df-container\">\n",
              "    <div>\n",
              "<style scoped>\n",
              "    .dataframe tbody tr th:only-of-type {\n",
              "        vertical-align: middle;\n",
              "    }\n",
              "\n",
              "    .dataframe tbody tr th {\n",
              "        vertical-align: top;\n",
              "    }\n",
              "\n",
              "    .dataframe thead th {\n",
              "        text-align: right;\n",
              "    }\n",
              "</style>\n",
              "<table border=\"1\" class=\"dataframe\">\n",
              "  <thead>\n",
              "    <tr style=\"text-align: right;\">\n",
              "      <th></th>\n",
              "      <th>Unnamed: 0</th>\n",
              "      <th>time [s]</th>\n",
              "      <th>cfo_meas</th>\n",
              "      <th>cfo_demod</th>\n",
              "      <th>gain_imb</th>\n",
              "      <th>iq_imb</th>\n",
              "      <th>or_off</th>\n",
              "      <th>quadr_err</th>\n",
              "      <th>ph_err</th>\n",
              "      <th>mag_err</th>\n",
              "      <th>evm</th>\n",
              "    </tr>\n",
              "  </thead>\n",
              "  <tbody>\n",
              "    <tr>\n",
              "      <th>0</th>\n",
              "      <td>0</td>\n",
              "      <td>45181.524</td>\n",
              "      <td>-414</td>\n",
              "      <td>-421.076324</td>\n",
              "      <td>0.076097</td>\n",
              "      <td>-46.987598</td>\n",
              "      <td>-27.219631</td>\n",
              "      <td>0.104362</td>\n",
              "      <td>1.129778</td>\n",
              "      <td>0.440299</td>\n",
              "      <td>2.059935</td>\n",
              "    </tr>\n",
              "    <tr>\n",
              "      <th>1</th>\n",
              "      <td>1</td>\n",
              "      <td>45182.129</td>\n",
              "      <td>-414</td>\n",
              "      <td>-423.571686</td>\n",
              "      <td>0.069879</td>\n",
              "      <td>-47.852627</td>\n",
              "      <td>-26.934967</td>\n",
              "      <td>0.053158</td>\n",
              "      <td>1.050010</td>\n",
              "      <td>0.431240</td>\n",
              "      <td>1.815053</td>\n",
              "    </tr>\n",
              "    <tr>\n",
              "      <th>2</th>\n",
              "      <td>2</td>\n",
              "      <td>45182.550</td>\n",
              "      <td>-414</td>\n",
              "      <td>-421.033936</td>\n",
              "      <td>0.061466</td>\n",
              "      <td>-48.968697</td>\n",
              "      <td>-27.130722</td>\n",
              "      <td>-0.045913</td>\n",
              "      <td>0.989473</td>\n",
              "      <td>0.447790</td>\n",
              "      <td>1.762053</td>\n",
              "    </tr>\n",
              "    <tr>\n",
              "      <th>3</th>\n",
              "      <td>3</td>\n",
              "      <td>45182.971</td>\n",
              "      <td>-414</td>\n",
              "      <td>-420.103546</td>\n",
              "      <td>0.078836</td>\n",
              "      <td>-46.756973</td>\n",
              "      <td>-27.005318</td>\n",
              "      <td>0.081583</td>\n",
              "      <td>1.085091</td>\n",
              "      <td>0.443476</td>\n",
              "      <td>1.894204</td>\n",
              "    </tr>\n",
              "    <tr>\n",
              "      <th>4</th>\n",
              "      <td>4</td>\n",
              "      <td>45183.551</td>\n",
              "      <td>-432</td>\n",
              "      <td>-420.781097</td>\n",
              "      <td>0.066053</td>\n",
              "      <td>-47.048218</td>\n",
              "      <td>-27.358521</td>\n",
              "      <td>0.081920</td>\n",
              "      <td>1.023701</td>\n",
              "      <td>0.465225</td>\n",
              "      <td>1.805841</td>\n",
              "    </tr>\n",
              "    <tr>\n",
              "      <th>...</th>\n",
              "      <td>...</td>\n",
              "      <td>...</td>\n",
              "      <td>...</td>\n",
              "      <td>...</td>\n",
              "      <td>...</td>\n",
              "      <td>...</td>\n",
              "      <td>...</td>\n",
              "      <td>...</td>\n",
              "      <td>...</td>\n",
              "      <td>...</td>\n",
              "      <td>...</td>\n",
              "    </tr>\n",
              "    <tr>\n",
              "      <th>19195</th>\n",
              "      <td>19195</td>\n",
              "      <td>54245.724</td>\n",
              "      <td>216</td>\n",
              "      <td>215.584991</td>\n",
              "      <td>0.077551</td>\n",
              "      <td>-35.409054</td>\n",
              "      <td>-28.611925</td>\n",
              "      <td>1.875334</td>\n",
              "      <td>0.999375</td>\n",
              "      <td>1.427339</td>\n",
              "      <td>2.248822</td>\n",
              "    </tr>\n",
              "    <tr>\n",
              "      <th>19196</th>\n",
              "      <td>19196</td>\n",
              "      <td>54246.340</td>\n",
              "      <td>216</td>\n",
              "      <td>215.247406</td>\n",
              "      <td>0.044961</td>\n",
              "      <td>-35.508205</td>\n",
              "      <td>-27.954048</td>\n",
              "      <td>1.898758</td>\n",
              "      <td>1.031501</td>\n",
              "      <td>1.478366</td>\n",
              "      <td>2.320668</td>\n",
              "    </tr>\n",
              "    <tr>\n",
              "      <th>19197</th>\n",
              "      <td>19197</td>\n",
              "      <td>54246.770</td>\n",
              "      <td>216</td>\n",
              "      <td>216.761307</td>\n",
              "      <td>0.070066</td>\n",
              "      <td>-35.038486</td>\n",
              "      <td>-28.467575</td>\n",
              "      <td>2.015116</td>\n",
              "      <td>1.090227</td>\n",
              "      <td>1.468599</td>\n",
              "      <td>2.382019</td>\n",
              "    </tr>\n",
              "    <tr>\n",
              "      <th>19198</th>\n",
              "      <td>19198</td>\n",
              "      <td>54247.379</td>\n",
              "      <td>216</td>\n",
              "      <td>215.353516</td>\n",
              "      <td>0.048611</td>\n",
              "      <td>-35.413639</td>\n",
              "      <td>-28.528139</td>\n",
              "      <td>1.916172</td>\n",
              "      <td>0.999381</td>\n",
              "      <td>1.497681</td>\n",
              "      <td>2.283976</td>\n",
              "    </tr>\n",
              "    <tr>\n",
              "      <th>19199</th>\n",
              "      <td>19199</td>\n",
              "      <td>54247.960</td>\n",
              "      <td>216</td>\n",
              "      <td>215.797363</td>\n",
              "      <td>0.063049</td>\n",
              "      <td>-35.693104</td>\n",
              "      <td>-28.132133</td>\n",
              "      <td>1.834771</td>\n",
              "      <td>0.995196</td>\n",
              "      <td>1.404114</td>\n",
              "      <td>2.237176</td>\n",
              "    </tr>\n",
              "  </tbody>\n",
              "</table>\n",
              "<p>19200 rows × 11 columns</p>\n",
              "</div>\n",
              "    <div class=\"colab-df-buttons\">\n",
              "\n",
              "  <div class=\"colab-df-container\">\n",
              "    <button class=\"colab-df-convert\" onclick=\"convertToInteractive('df-47009d7d-fde2-423d-8830-efb74859e44e')\"\n",
              "            title=\"Convert this dataframe to an interactive table.\"\n",
              "            style=\"display:none;\">\n",
              "\n",
              "  <svg xmlns=\"http://www.w3.org/2000/svg\" height=\"24px\" viewBox=\"0 -960 960 960\">\n",
              "    <path d=\"M120-120v-720h720v720H120Zm60-500h600v-160H180v160Zm220 220h160v-160H400v160Zm0 220h160v-160H400v160ZM180-400h160v-160H180v160Zm440 0h160v-160H620v160ZM180-180h160v-160H180v160Zm440 0h160v-160H620v160Z\"/>\n",
              "  </svg>\n",
              "    </button>\n",
              "\n",
              "  <style>\n",
              "    .colab-df-container {\n",
              "      display:flex;\n",
              "      gap: 12px;\n",
              "    }\n",
              "\n",
              "    .colab-df-convert {\n",
              "      background-color: #E8F0FE;\n",
              "      border: none;\n",
              "      border-radius: 50%;\n",
              "      cursor: pointer;\n",
              "      display: none;\n",
              "      fill: #1967D2;\n",
              "      height: 32px;\n",
              "      padding: 0 0 0 0;\n",
              "      width: 32px;\n",
              "    }\n",
              "\n",
              "    .colab-df-convert:hover {\n",
              "      background-color: #E2EBFA;\n",
              "      box-shadow: 0px 1px 2px rgba(60, 64, 67, 0.3), 0px 1px 3px 1px rgba(60, 64, 67, 0.15);\n",
              "      fill: #174EA6;\n",
              "    }\n",
              "\n",
              "    .colab-df-buttons div {\n",
              "      margin-bottom: 4px;\n",
              "    }\n",
              "\n",
              "    [theme=dark] .colab-df-convert {\n",
              "      background-color: #3B4455;\n",
              "      fill: #D2E3FC;\n",
              "    }\n",
              "\n",
              "    [theme=dark] .colab-df-convert:hover {\n",
              "      background-color: #434B5C;\n",
              "      box-shadow: 0px 1px 3px 1px rgba(0, 0, 0, 0.15);\n",
              "      filter: drop-shadow(0px 1px 2px rgba(0, 0, 0, 0.3));\n",
              "      fill: #FFFFFF;\n",
              "    }\n",
              "  </style>\n",
              "\n",
              "    <script>\n",
              "      const buttonEl =\n",
              "        document.querySelector('#df-47009d7d-fde2-423d-8830-efb74859e44e button.colab-df-convert');\n",
              "      buttonEl.style.display =\n",
              "        google.colab.kernel.accessAllowed ? 'block' : 'none';\n",
              "\n",
              "      async function convertToInteractive(key) {\n",
              "        const element = document.querySelector('#df-47009d7d-fde2-423d-8830-efb74859e44e');\n",
              "        const dataTable =\n",
              "          await google.colab.kernel.invokeFunction('convertToInteractive',\n",
              "                                                    [key], {});\n",
              "        if (!dataTable) return;\n",
              "\n",
              "        const docLinkHtml = 'Like what you see? Visit the ' +\n",
              "          '<a target=\"_blank\" href=https://colab.research.google.com/notebooks/data_table.ipynb>data table notebook</a>'\n",
              "          + ' to learn more about interactive tables.';\n",
              "        element.innerHTML = '';\n",
              "        dataTable['output_type'] = 'display_data';\n",
              "        await google.colab.output.renderOutput(dataTable, element);\n",
              "        const docLink = document.createElement('div');\n",
              "        docLink.innerHTML = docLinkHtml;\n",
              "        element.appendChild(docLink);\n",
              "      }\n",
              "    </script>\n",
              "  </div>\n",
              "\n",
              "\n",
              "<div id=\"df-7b2e4322-b2c7-473b-a4dd-0a0c87472b9d\">\n",
              "  <button class=\"colab-df-quickchart\" onclick=\"quickchart('df-7b2e4322-b2c7-473b-a4dd-0a0c87472b9d')\"\n",
              "            title=\"Suggest charts\"\n",
              "            style=\"display:none;\">\n",
              "\n",
              "<svg xmlns=\"http://www.w3.org/2000/svg\" height=\"24px\"viewBox=\"0 0 24 24\"\n",
              "     width=\"24px\">\n",
              "    <g>\n",
              "        <path d=\"M19 3H5c-1.1 0-2 .9-2 2v14c0 1.1.9 2 2 2h14c1.1 0 2-.9 2-2V5c0-1.1-.9-2-2-2zM9 17H7v-7h2v7zm4 0h-2V7h2v10zm4 0h-2v-4h2v4z\"/>\n",
              "    </g>\n",
              "</svg>\n",
              "  </button>\n",
              "\n",
              "<style>\n",
              "  .colab-df-quickchart {\n",
              "      --bg-color: #E8F0FE;\n",
              "      --fill-color: #1967D2;\n",
              "      --hover-bg-color: #E2EBFA;\n",
              "      --hover-fill-color: #174EA6;\n",
              "      --disabled-fill-color: #AAA;\n",
              "      --disabled-bg-color: #DDD;\n",
              "  }\n",
              "\n",
              "  [theme=dark] .colab-df-quickchart {\n",
              "      --bg-color: #3B4455;\n",
              "      --fill-color: #D2E3FC;\n",
              "      --hover-bg-color: #434B5C;\n",
              "      --hover-fill-color: #FFFFFF;\n",
              "      --disabled-bg-color: #3B4455;\n",
              "      --disabled-fill-color: #666;\n",
              "  }\n",
              "\n",
              "  .colab-df-quickchart {\n",
              "    background-color: var(--bg-color);\n",
              "    border: none;\n",
              "    border-radius: 50%;\n",
              "    cursor: pointer;\n",
              "    display: none;\n",
              "    fill: var(--fill-color);\n",
              "    height: 32px;\n",
              "    padding: 0;\n",
              "    width: 32px;\n",
              "  }\n",
              "\n",
              "  .colab-df-quickchart:hover {\n",
              "    background-color: var(--hover-bg-color);\n",
              "    box-shadow: 0 1px 2px rgba(60, 64, 67, 0.3), 0 1px 3px 1px rgba(60, 64, 67, 0.15);\n",
              "    fill: var(--button-hover-fill-color);\n",
              "  }\n",
              "\n",
              "  .colab-df-quickchart-complete:disabled,\n",
              "  .colab-df-quickchart-complete:disabled:hover {\n",
              "    background-color: var(--disabled-bg-color);\n",
              "    fill: var(--disabled-fill-color);\n",
              "    box-shadow: none;\n",
              "  }\n",
              "\n",
              "  .colab-df-spinner {\n",
              "    border: 2px solid var(--fill-color);\n",
              "    border-color: transparent;\n",
              "    border-bottom-color: var(--fill-color);\n",
              "    animation:\n",
              "      spin 1s steps(1) infinite;\n",
              "  }\n",
              "\n",
              "  @keyframes spin {\n",
              "    0% {\n",
              "      border-color: transparent;\n",
              "      border-bottom-color: var(--fill-color);\n",
              "      border-left-color: var(--fill-color);\n",
              "    }\n",
              "    20% {\n",
              "      border-color: transparent;\n",
              "      border-left-color: var(--fill-color);\n",
              "      border-top-color: var(--fill-color);\n",
              "    }\n",
              "    30% {\n",
              "      border-color: transparent;\n",
              "      border-left-color: var(--fill-color);\n",
              "      border-top-color: var(--fill-color);\n",
              "      border-right-color: var(--fill-color);\n",
              "    }\n",
              "    40% {\n",
              "      border-color: transparent;\n",
              "      border-right-color: var(--fill-color);\n",
              "      border-top-color: var(--fill-color);\n",
              "    }\n",
              "    60% {\n",
              "      border-color: transparent;\n",
              "      border-right-color: var(--fill-color);\n",
              "    }\n",
              "    80% {\n",
              "      border-color: transparent;\n",
              "      border-right-color: var(--fill-color);\n",
              "      border-bottom-color: var(--fill-color);\n",
              "    }\n",
              "    90% {\n",
              "      border-color: transparent;\n",
              "      border-bottom-color: var(--fill-color);\n",
              "    }\n",
              "  }\n",
              "</style>\n",
              "\n",
              "  <script>\n",
              "    async function quickchart(key) {\n",
              "      const quickchartButtonEl =\n",
              "        document.querySelector('#' + key + ' button');\n",
              "      quickchartButtonEl.disabled = true;  // To prevent multiple clicks.\n",
              "      quickchartButtonEl.classList.add('colab-df-spinner');\n",
              "      try {\n",
              "        const charts = await google.colab.kernel.invokeFunction(\n",
              "            'suggestCharts', [key], {});\n",
              "      } catch (error) {\n",
              "        console.error('Error during call to suggestCharts:', error);\n",
              "      }\n",
              "      quickchartButtonEl.classList.remove('colab-df-spinner');\n",
              "      quickchartButtonEl.classList.add('colab-df-quickchart-complete');\n",
              "    }\n",
              "    (() => {\n",
              "      let quickchartButtonEl =\n",
              "        document.querySelector('#df-7b2e4322-b2c7-473b-a4dd-0a0c87472b9d button');\n",
              "      quickchartButtonEl.style.display =\n",
              "        google.colab.kernel.accessAllowed ? 'block' : 'none';\n",
              "    })();\n",
              "  </script>\n",
              "</div>\n",
              "    </div>\n",
              "  </div>\n"
            ],
            "application/vnd.google.colaboratory.intrinsic+json": {
              "type": "dataframe",
              "variable_name": "data",
              "summary": "{\n  \"name\": \"data\",\n  \"rows\": 19200,\n  \"fields\": [\n    {\n      \"column\": \"Unnamed: 0\",\n      \"properties\": {\n        \"dtype\": \"number\",\n        \"std\": 5542,\n        \"min\": 0,\n        \"max\": 19199,\n        \"num_unique_values\": 19200,\n        \"samples\": [\n          3234,\n          9459,\n          14698\n        ],\n        \"semantic_type\": \"\",\n        \"description\": \"\"\n      }\n    },\n    {\n      \"column\": \"time [s]\",\n      \"properties\": {\n        \"dtype\": \"number\",\n        \"std\": 9172.72963496537,\n        \"min\": 38570.683,\n        \"max\": 70921.969,\n        \"num_unique_values\": 19196,\n        \"samples\": [\n          58037.943,\n          69840.366,\n          57824.205\n        ],\n        \"semantic_type\": \"\",\n        \"description\": \"\"\n      }\n    },\n    {\n      \"column\": \"cfo_meas\",\n      \"properties\": {\n        \"dtype\": \"number\",\n        \"std\": 411,\n        \"min\": -1350,\n        \"max\": 720,\n        \"num_unique_values\": 113,\n        \"samples\": [\n          -1314,\n          -324,\n          54\n        ],\n        \"semantic_type\": \"\",\n        \"description\": \"\"\n      }\n    },\n    {\n      \"column\": \"cfo_demod\",\n      \"properties\": {\n        \"dtype\": \"number\",\n        \"std\": 412.65315235526083,\n        \"min\": -1362.15270996,\n        \"max\": 737.512390137,\n        \"num_unique_values\": 19191,\n        \"samples\": [\n          -412.818695068,\n          -199.721588135,\n          -494.857971191\n        ],\n        \"semantic_type\": \"\",\n        \"description\": \"\"\n      }\n    },\n    {\n      \"column\": \"gain_imb\",\n      \"properties\": {\n        \"dtype\": \"number\",\n        \"std\": 0.04680410232373226,\n        \"min\": -0.32138955593,\n        \"max\": 0.17638450861,\n        \"num_unique_values\": 17819,\n        \"samples\": [\n          -0.03364435211,\n          0.10175066441,\n          -0.02721820772\n        ],\n        \"semantic_type\": \"\",\n        \"description\": \"\"\n      }\n    },\n    {\n      \"column\": \"iq_imb\",\n      \"properties\": {\n        \"dtype\": \"number\",\n        \"std\": 5.399075398914595,\n        \"min\": -56.2497940063,\n        \"max\": -28.4151382446,\n        \"num_unique_values\": 19142,\n        \"samples\": [\n          -46.0571098328,\n          -29.5953178406,\n          -31.7976036072\n        ],\n        \"semantic_type\": \"\",\n        \"description\": \"\"\n      }\n    },\n    {\n      \"column\": \"or_off\",\n      \"properties\": {\n        \"dtype\": \"number\",\n        \"std\": 3.7192651765977067,\n        \"min\": -40.7760276794,\n        \"max\": -26.306427002,\n        \"num_unique_values\": 19137,\n        \"samples\": [\n          -30.361158371,\n          -35.894241333,\n          -28.0481510162\n        ],\n        \"semantic_type\": \"\",\n        \"description\": \"\"\n      }\n    },\n    {\n      \"column\": \"quadr_err\",\n      \"properties\": {\n        \"dtype\": \"number\",\n        \"std\": 2.51102751142705,\n        \"min\": -4.32929468155,\n        \"max\": 3.34028530121,\n        \"num_unique_values\": 19118,\n        \"samples\": [\n          2.51053857803,\n          1.10234749317,\n          1.230509758\n        ],\n        \"semantic_type\": \"\",\n        \"description\": \"\"\n      }\n    },\n    {\n      \"column\": \"ph_err\",\n      \"properties\": {\n        \"dtype\": \"number\",\n        \"std\": 0.24056164089043092,\n        \"min\": 0.85571557283,\n        \"max\": 11.439540863,\n        \"num_unique_values\": 19146,\n        \"samples\": [\n          1.52252030373,\n          1.42117905617,\n          1.1075104475\n        ],\n        \"semantic_type\": \"\",\n        \"description\": \"\"\n      }\n    },\n    {\n      \"column\": \"mag_err\",\n      \"properties\": {\n        \"dtype\": \"number\",\n        \"std\": 0.9359431151828042,\n        \"min\": 0.38708582521,\n        \"max\": 10.5958108902,\n        \"num_unique_values\": 19186,\n        \"samples\": [\n          1.00213134289,\n          0.85735309124,\n          1.60532999039\n        ],\n        \"semantic_type\": \"\",\n        \"description\": \"\"\n      }\n    },\n    {\n      \"column\": \"evm\",\n      \"properties\": {\n        \"dtype\": \"number\",\n        \"std\": 0.8016629971722896,\n        \"min\": 1.64537537098,\n        \"max\": 19.1529712677,\n        \"num_unique_values\": 19163,\n        \"samples\": [\n          2.95332407951,\n          3.36171388626,\n          1.95155072212\n        ],\n        \"semantic_type\": \"\",\n        \"description\": \"\"\n      }\n    }\n  ]\n}"
            }
          },
          "metadata": {},
          "execution_count": 88
        }
      ]
    },
    {
      "cell_type": "markdown",
      "source": [
        "## Data Preprocessing"
      ],
      "metadata": {
        "id": "bOb-5mNM1J8N"
      }
    },
    {
      "cell_type": "code",
      "source": [
        "data = data.drop(data.columns[[0, 1]], axis=1)\n",
        "data = data.drop(columns=['or_off','quadr_err', 'ph_err', 'mag_err','evm'])\n",
        "\n",
        "print(data)\n",
        "data = StandardScaler().fit_transform(data)\n",
        "plt.scatter(data[:, 0], data[:, 1])\n",
        "plt.title('Data')\n",
        "plt.xlabel('Feature 1')\n",
        "plt.ylabel('Feature 2')\n",
        "plt.show()"
      ],
      "metadata": {
        "id": "q05A40UY7qCP",
        "colab": {
          "base_uri": "https://localhost:8080/",
          "height": 715
        },
        "outputId": "f37cd52b-3ceb-4ba2-d418-2ed1c7ae93c8"
      },
      "execution_count": 89,
      "outputs": [
        {
          "output_type": "stream",
          "name": "stdout",
          "text": [
            "       cfo_meas   cfo_demod  gain_imb     iq_imb\n",
            "0          -414 -421.076324  0.076097 -46.987598\n",
            "1          -414 -423.571686  0.069879 -47.852627\n",
            "2          -414 -421.033936  0.061466 -48.968697\n",
            "3          -414 -420.103546  0.078836 -46.756973\n",
            "4          -432 -420.781097  0.066053 -47.048218\n",
            "...         ...         ...       ...        ...\n",
            "19195       216  215.584991  0.077551 -35.409054\n",
            "19196       216  215.247406  0.044961 -35.508205\n",
            "19197       216  216.761307  0.070066 -35.038486\n",
            "19198       216  215.353516  0.048611 -35.413639\n",
            "19199       216  215.797363  0.063049 -35.693104\n",
            "\n",
            "[19200 rows x 4 columns]\n"
          ]
        },
        {
          "output_type": "display_data",
          "data": {
            "text/plain": [
              "<Figure size 640x480 with 1 Axes>"
            ],
            "image/png": "[encoded data removed]"
          },
          "metadata": {}
        }
      ]
    },
    {
      "cell_type": "code",
      "source": [
        "data"
      ],
      "metadata": {
        "colab": {
          "base_uri": "https://localhost:8080/"
        },
        "id": "MOAtFnUjgKTq",
        "outputId": "080dc617-0694-43d4-c9fd-0af7c80ec7af"
      },
      "execution_count": 90,
      "outputs": [
        {
          "output_type": "execute_result",
          "data": {
            "text/plain": [
              "array([[-0.10218242, -0.11905909,  0.68430902, -2.18452544],\n",
              "       [-0.10218242, -0.12510636,  0.55147287, -2.34474749],\n",
              "       [-0.10218242, -0.11895637,  0.3717129 , -2.55146785],\n",
              "       ...,\n",
              "       [ 1.42819676,  1.42668032,  0.55546696,  0.02870965],\n",
              "       [ 1.42819676,  1.42326867,  0.09704912, -0.04077676],\n",
              "       [ 1.42819676,  1.4243443 ,  0.40553964, -0.09253969]])"
            ]
          },
          "metadata": {},
          "execution_count": 90
        }
      ]
    },
    {
      "cell_type": "markdown",
      "source": [
        "## Optimization of constants min_samples and epsilon\n"
      ],
      "metadata": {
        "id": "5cQe4pYr1d1R"
      }
    },
    {
      "cell_type": "code",
      "source": [
        "neighbors = NearestNeighbors(n_neighbors=8)\n",
        "neighbors_fit = neighbors.fit(data)\n",
        "distances, indices = neighbors_fit.kneighbors(data)\n",
        "distances = np.sort(distances, axis=0)\n",
        "distances = distances[:,1]\n",
        "plt.plot(distances)\n",
        "plt.grid()\n",
        "plt.xlim([19100, 19200])"
      ],
      "metadata": {
        "colab": {
          "base_uri": "https://localhost:8080/",
          "height": 447
        },
        "id": "9SHBWWMxo2Ce",
        "outputId": "c2ae9a1d-1eeb-4a49-e164-2d82bd436413"
      },
      "execution_count": 91,
      "outputs": [
        {
          "output_type": "execute_result",
          "data": {
            "text/plain": [
              "(19100.0, 19200.0)"
            ]
          },
          "metadata": {},
          "execution_count": 91
        },
        {
          "output_type": "display_data",
          "data": {
            "text/plain": [
              "<Figure size 640x480 with 1 Axes>"
            ],
            "image/png": "[encoded data removed]"
          },
          "metadata": {}
        }
      ]
    },
    {
      "cell_type": "markdown",
      "source": [
        "## Model building and results"
      ],
      "metadata": {
        "id": "a5ljJmhO3TrM"
      }
    },
    {
      "cell_type": "code",
      "source": [
        "epsilon = 0.5\n",
        "min_samples = 8\n",
        "dbscan = DBSCAN(eps=epsilon, min_samples=min_samples)\n",
        "dbscan.fit(data)\n",
        "\n",
        "clusters = dbscan.labels_\n",
        "\n",
        "num_transmitters = len(set(clusters))- (1 if -1 in clusters else 0)\n",
        "print(\"Number of transmitters:\", num_transmitters)\n",
        "\n",
        "unique_clusters = set(clusters)\n",
        "\n",
        "legend_labels = {}\n",
        "\n",
        "for cluster in unique_clusters:\n",
        "    if cluster == -1:\n",
        "        label = 'Noise'\n",
        "    else:\n",
        "        label = f'Cluster {cluster}'\n",
        "    cluster_data = data[clusters == cluster]\n",
        "    plt.scatter(cluster_data[:, 0],\n",
        "                cluster_data[:, 1],\n",
        "                label=label,\n",
        "                marker='o',\n",
        "                s=50,\n",
        "                alpha=0.5)\n",
        "\n",
        "    legend_labels[cluster] = label\n",
        "\n",
        "plt.title('DBSCAN Clustering')\n",
        "plt.xlabel('Feature 1')\n",
        "plt.ylabel('Feature 2')\n",
        "plt.legend(labels=legend_labels.values())\n",
        "plt.show()"
      ],
      "metadata": {
        "colab": {
          "base_uri": "https://localhost:8080/",
          "height": 489
        },
        "id": "7kYVmT6HnyIe",
        "outputId": "74d6c616-e287-4a9b-b061-8cc095a85aea"
      },
      "execution_count": 92,
      "outputs": [
        {
          "output_type": "stream",
          "name": "stdout",
          "text": [
            "Number of transmitters: 2\n"
          ]
        },
        {
          "output_type": "display_data",
          "data": {
            "text/plain": [
              "<Figure size 640x480 with 1 Axes>"
            ],
            "image/png": "[encoded data removed]"
          },
          "metadata": {}
        }
      ]
    }
  ]
}